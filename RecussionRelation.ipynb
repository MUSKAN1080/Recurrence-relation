{
 "cells": [
  {
   "cell_type": "markdown",
   "metadata": {},
   "source": [
    "Q1 Find the val%e of T(2) for the recurrence relation T(n) = 3T(n-1) + 12n, given that T(0)=5."
   ]
  },
  {
   "cell_type": "code",
   "execution_count": null,
   "metadata": {
    "vscode": {
     "languageId": "plaintext"
    }
   },
   "outputs": [],
   "source": [
    "T(0) = 3T(n-1) + 12n\n",
    "T(1) = 3T(1-1)+12*1\n",
    "T(1) = 3T(0)+12*1\n",
    "\n",
    "     = 3*5+12\n",
    "     =15+12\n",
    "T(1) = 27\n",
    "\n",
    "T(2) = 3T(2=1)+12(2)\n",
    "T(2) = 3T(1)+24\n",
    "T(2) = 3*27+24\n",
    "T(2) = 81+24\n",
    "T(2) = 105"
   ]
  },
  {
   "cell_type": "markdown",
   "metadata": {},
   "source": [
    "Q2 Given a recurrence relation, solve it using the substitution method:\n",
    "a. T(n) = T(n-1) + c\n",
    "b. T(n) = 2T(n/2) + n\n",
    "c. T(n) = 2T(n/2) + c\n",
    "d. T(n) = T(n/2) + c"
   ]
  },
  {
   "cell_type": "code",
   "execution_count": null,
   "metadata": {
    "vscode": {
     "languageId": "plaintext"
    }
   },
   "outputs": [],
   "source": [
    "(a) when n=0\n",
    "T(0)=T(0)\n",
    "The base case hold\n",
    "\n",
    "Assume,T(k) = T(0)+ck hold for same k,we need to show it hold for k+1\n",
    "T(k+1) = T(k) +c\n",
    "substitute the hypothesis T(k) = T(0) +ck\n",
    "\n",
    "T(k+1) = (T(0) + ck) +c\n",
    "T(k+1) = T(0) +c(k+1)\n",
    "\n",
    "so, the solution is T(n) = T(n-1) + c is:\n",
    "\n",
    "Answer :  T(n) = T(0) +cn\n",
    "\n",
    "\n",
    "\n",
    "\n",
    "(b)  T(n) = 2T(n/2) +n\n",
    "let propose that T(n) =o(nlog n)\n",
    "Assume T(k) <= ck log k for k <n, we need to prove:\n",
    "\n",
    "T(n) <= cn log n\n",
    "\n",
    "T(n) = 2T(n/2) +n\n",
    "<2[c(n/2) log(n/2)] +n\n",
    "  = cn log(n/2) +n\n",
    "  = cn(log n - log 2) +n\n",
    "  = cn log n - cn log2 +n\n",
    "\n",
    "  Answer :  T(0) = o(nlog n)\n",
    "\n",
    "\n",
    "\n",
    "\n",
    "  (c) T(n) = 2T(n/2)+c\n",
    "     Assume: \n",
    "             T(k) <= ck for k < n we want to show:\n",
    "             T(n) <= cn\n",
    "\n",
    "             T(n) = 2T(n/2) +c\n",
    "             <=2(c(n/2)) +c\n",
    "             = cn+c\n",
    "\n",
    "    Answer :  T(n) = o(n)\n",
    "\n",
    "\n",
    "\n",
    "\n",
    "    (d)  T(n) = T(n/2)+c\n",
    "         Assume: \n",
    "                 T(k) <=c log k for k < n, we need to show: T(n) <= clog n\n",
    "\n",
    "                 T(n) = T(n/2) +c\n",
    "                 <=clog (n/2) +c\n",
    "                 = c(log n - log 2) +c\n",
    "                 =clog n - clog2 +c\n",
    "\n",
    "         Answer  : T(n) = o(log n)                 "
   ]
  },
  {
   "cell_type": "markdown",
   "metadata": {},
   "source": [
    "Q3.Given a rec%rrence relation, solve it %sing the rec%rsive tree approach:\n",
    "a. T(n) = 2T(n-1) +1\n",
    "b. T(n) = 2T(n/2) + n"
   ]
  },
  {
   "cell_type": "code",
   "execution_count": null,
   "metadata": {
    "vscode": {
     "languageId": "plaintext"
    }
   },
   "outputs": [],
   "source": [
    "(a) T(n) = 2T(n-1) + 1\n",
    "Answer: the time complexity is O(2^n)\n",
    "\n",
    "(b) T(n) = 2T(n/2) + n\n",
    "Answer: the time complexity is O(n log n)"
   ]
  }
 ],
 "metadata": {
  "language_info": {
   "name": "python"
  }
 },
 "nbformat": 4,
 "nbformat_minor": 2
}
